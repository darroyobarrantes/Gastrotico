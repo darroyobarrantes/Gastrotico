{
 "cells": [
  {
   "cell_type": "code",
   "execution_count": null,
   "id": "7a992457",
   "metadata": {},
   "outputs": [],
   "source": [
    "keyword['Tool Keyword'] = keyword['Tool Keyword'].str.lower()\n",
    "toolkeyword = keyword['Tool Keyword'].unique().tolist()\n",
    "toolkeyword = [x for x in toolkeyword if str(x) != 'nan']\n",
    "\n",
    "#Creates a dictionary with all keywords and Category\n",
    "keyword = keyword.replace('nan', np.nan)\n",
    "keyword['Tool'] = keyword['Tool Keyword']\n",
    "\n",
    "category1 = dict(zip(keyword['Tool Keyword'], keyword['Category']))\n",
    "category1 = {str(key): str(value) for key, value in category1.items()} #all values to string"
   ]
  },
  {
   "cell_type": "code",
   "execution_count": null,
   "id": "5dafb3c2",
   "metadata": {},
   "outputs": [],
   "source": [
    "#Tool & Process Search\n",
    "df['Tool Match'] = df['Comment_Description'].str.findall('|'.join(toolkeyword)).apply(set).str.join(',') #Finds matches and separates by comma"
   ]
  },
  {
   "cell_type": "code",
   "execution_count": null,
   "id": "bfe789d2",
   "metadata": {},
   "outputs": [],
   "source": [
    "#Assigns Category\n",
    "df['Tool Category']  = df['Tool Match'].replace(category1, regex=True)\n",
    "df['Tool Category'] = df['Tool Category'].apply(lambda x: ','.join(set([y.strip() for y in str(x).split(',')]))) #Eliminates duplicates"
   ]
  },
  {
   "cell_type": "code",
   "execution_count": null,
   "id": "8bceb03e",
   "metadata": {},
   "outputs": [],
   "source": [
    "#Eliminate resulting nans and extra spaces\n",
    "nans = '|'.join([\"nan,\", ',nan', 'nan'])\n",
    "df['Tool Category'] = df['Tool Category'].str.replace(nans, '')"
   ]
  },
  {
   "cell_type": "code",
   "execution_count": null,
   "id": "0a9b0a96",
   "metadata": {},
   "outputs": [],
   "source": [
    "# Word counts per row\n",
    "quarter_group = l1.groupby(['Survey - Intel Quarter Year'], sort=False).agg(','.join)['Tool Category'].to_frame() # Aqui es por fecha en nuestro caso es po ubicacion.\n",
    "pattern = re.compile(r'(,){2,}')\n",
    "separators = '|'.join([\", \", ' ,',])\n",
    "quarter_group['Tool Category'] = quarter_group['Tool Category'].str.replace(pattern,',')\n",
    "quarter_group['Tool Category'] = quarter_group['Tool Category'].str.replace(separators,',')\n",
    "tcat = quarter_group['Tool Category'].str.split(',').apply(pd.value_counts).T\n",
    "tcat = tcat.reindex(sorted(tcat.columns), axis=1)"
   ]
  }
 ],
 "metadata": {
  "kernelspec": {
   "display_name": "Python 3",
   "language": "python",
   "name": "python3"
  },
  "language_info": {
   "codemirror_mode": {
    "name": "ipython",
    "version": 3
   },
   "file_extension": ".py",
   "mimetype": "text/x-python",
   "name": "python",
   "nbconvert_exporter": "python",
   "pygments_lexer": "ipython3",
   "version": "3.8.8"
  }
 },
 "nbformat": 4,
 "nbformat_minor": 5
}
